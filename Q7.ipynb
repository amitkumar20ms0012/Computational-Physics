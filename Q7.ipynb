{
 "cells": [
  {
   "cell_type": "code",
   "execution_count": 1,
   "metadata": {},
   "outputs": [
    {
     "name": "stdout",
     "output_type": "stream",
     "text": [
      "Run 1: Chi2 Stat = 29.49, p-value = 0.0010, Conclusion: not sufficiently random\n",
      "Run 2: Chi2 Stat = 1.14, p-value = 0.9997, Conclusion: sufficiently random\n"
     ]
    }
   ],
   "source": [
    "# The value of V obtained is greater than 18.31. Therefore, Run 1 is \"not sufficiently random\".\n",
    "# The value of V obtained is less than 18.31. Therefore, Run 2 is \"sufficiently random\".\n",
    "\n",
    "\n",
    "\n",
    "import numpy as np\n",
    "from scipy.stats import chisquare\n",
    "\n",
    "# Observed counts from the two runs\n",
    "observed_counts_1 = np.array([4, 10, 10, 13, 20, 18, 18, 11, 13, 14, 13])\n",
    "observed_counts_2 = np.array([3, 7, 11, 15, 19, 24, 21, 17, 13, 9, 5])\n",
    "\n",
    "# Total number of observations in each run\n",
    "N1 = np.sum(observed_counts_1)\n",
    "N2 = np.sum(observed_counts_2)\n",
    "\n",
    "# Expected counts based on probabilities of sums (2 to 12)\n",
    "probabilities = np.array([1/36, 2/36, 3/36, 4/36, 5/36, 6/36, 5/36, 4/36, 3/36, 2/36, 1/36])\n",
    "expected_counts_1 = N1 * probabilities\n",
    "expected_counts_2 = N2 * probabilities\n",
    "\n",
    "# Perform chi-square test\n",
    "chi2_stat_1, p_value_1 = chisquare(observed_counts_1, f_exp=expected_counts_1)\n",
    "chi2_stat_2, p_value_2 = chisquare(observed_counts_2, f_exp=expected_counts_2)\n",
    "\n",
    "# Determine the conclusion based on p-value\n",
    "def interpret_chi2(p_value):\n",
    "    if p_value < 0.01:\n",
    "        return \"not sufficiently random\"\n",
    "    elif p_value < 0.05:\n",
    "        return \"suspect\"\n",
    "    elif p_value < 0.10:\n",
    "        return \"almost suspect\"\n",
    "    else:\n",
    "        return \"sufficiently random\"\n",
    "\n",
    "conclusion_1 = interpret_chi2(p_value_1)\n",
    "conclusion_2 = interpret_chi2(p_value_2)\n",
    "\n",
    "# Print results\n",
    "print(f\"Run 1: Chi2 Stat = {chi2_stat_1:.2f}, p-value = {p_value_1:.4f}, Conclusion: {conclusion_1}\")\n",
    "print(f\"Run 2: Chi2 Stat = {chi2_stat_2:.2f}, p-value = {p_value_2:.4f}, Conclusion: {conclusion_2}\")\n",
    "\n",
    "\n",
    "\n",
    "\n",
    "\n",
    "\n"
   ]
  }
 ],
 "metadata": {
  "kernelspec": {
   "display_name": "base",
   "language": "python",
   "name": "python3"
  },
  "language_info": {
   "codemirror_mode": {
    "name": "ipython",
    "version": 3
   },
   "file_extension": ".py",
   "mimetype": "text/x-python",
   "name": "python",
   "nbconvert_exporter": "python",
   "pygments_lexer": "ipython3",
   "version": "3.9.13"
  }
 },
 "nbformat": 4,
 "nbformat_minor": 2
}
