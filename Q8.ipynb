{
 "cells": [
  {
   "cell_type": "markdown",
   "metadata": {},
   "source": [
    "Q. 8"
   ]
  },
  {
   "cell_type": "code",
   "execution_count": 8,
   "metadata": {},
   "outputs": [
    {
     "name": "stdout",
     "output_type": "stream",
     "text": [
      "Area of a unit circle is:\n",
      " 3.13828\n",
      "Volume of 10-dimensional unit sphere:\n",
      " 2.50368\n"
     ]
    }
   ],
   "source": [
    "import numpy as np\n",
    "import numpy.random as rand\n",
    "\n",
    "def monte_carlo_unit_circle(samples):# function to calculate the area of a unit circle\n",
    "    count_inside_circle = 0\n",
    "    for _ in range(samples):\n",
    "        x, y = r.uniform(-1, 1), rand.uniform(-1, 1)\n",
    "        if x**2 + y**2 <= 1:\n",
    "            count_inside_circle += 1 \n",
    "    area_estimate = 4 * (count_inside_circle / samples)\n",
    "    return area_estimate\n",
    "\n",
    "def monte_carlo_unit_sphere(dim, samples):# function to calculate the volume of 10 D unit sphere\n",
    "    count_inside_sphere = 0\n",
    "    for _ in range(samples):\n",
    "        point = rand.uniform(-1, 1, dim)\n",
    "        if np.sum(point**2) <= 1:\n",
    "            count_inside_sphere += 1\n",
    "    volume_estimate = (2**dim) * (count_inside_sphere / samples)\n",
    "    return volume_estimate\n",
    "\n",
    "# Calculate the area of a unit circle (2-dimensional sphere)\n",
    "area_circle = monte_carlo_unit_circle(100000)\n",
    "print(\"Area of a unit circle is:\\n\", area_circle)\n",
    "\n",
    "# Calculate the volume of a 10-dimensional unit sphere\n",
    "volume_10d_sphere = monte_carlo_unit_sphere(10, 1000000)\n",
    "print(\"Volume of 10-dimensional unit sphere:\\n\", volume_10d_sphere)\n"
   ]
  }
 ],
 "metadata": {
  "kernelspec": {
   "display_name": "base",
   "language": "python",
   "name": "python3"
  },
  "language_info": {
   "codemirror_mode": {
    "name": "ipython",
    "version": 3
   },
   "file_extension": ".py",
   "mimetype": "text/x-python",
   "name": "python",
   "nbconvert_exporter": "python",
   "pygments_lexer": "ipython3",
   "version": "3.9.13"
  }
 },
 "nbformat": 4,
 "nbformat_minor": 2
}
